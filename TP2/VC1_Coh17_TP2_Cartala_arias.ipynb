{
 "cells": [
  {
   "cell_type": "markdown",
   "metadata": {},
   "source": [
    "## Visión por Computadora 1 - Cohorte 17\n",
    "## Trabajo Práctico 2\n",
    "## Paola Cartala - Florentino Arias"
   ]
  },
  {
   "cell_type": "markdown",
   "metadata": {},
   "source": [
    "## Parte 1: Implementar un algoritmo de enfoque que calcule la métrica descrita en el paper 'Image Sharpness Measure for Blurred Images in Frequency Domain'.\n",
    "Implementamos la métrica de enfoque para un frame usando la Transformada Rápida de Fourier (FFT)."
   ]
  },
  {
   "cell_type": "code",
   "execution_count": null,
   "metadata": {
    "vscode": {
     "languageId": "plaintext"
    }
   },
   "outputs": [],
   "source": [
    "import cv2\n",
    "import numpy as np\n",
    "import matplotlib.pyplot as plt\n",
    "\n",
    "# Leer el video\n",
    "video_path = 'focus_video.mov'\n",
    "cap = cv2.VideoCapture(video_path)\n",
    "\n",
    "focus_scores = []\n",
    "frame_count = 0\n",
    "\n",
    "while cap.isOpened():\n",
    "    ret, frame = cap.read()\n",
    "    if not ret:\n",
    "        break\n",
    "    \n",
    "    # Convertir el frame a escala de grises\n",
    "    gray_frame = cv2.cvtColor(frame, cv2.COLOR_BGR2GRAY)\n",
    "    \n",
    "    # Calcular la FFT\n",
    "    f = np.fft.fft2(gray_frame)\n",
    "    fshift = np.fft.fftshift(f)\n",
    "    magnitude_spectrum = np.abs(fshift)\n",
    "    \n",
    "    # Calcular la métrica: suma de las frecuencias altas (evitar el centro de la FFT)\n",
    "    center_x, center_y = magnitude_spectrum.shape[1] // 2, magnitude_spectrum.shape[0] // 2\n",
    "    roi_radius = 20  # Tamaño del centro a evitar (puedes ajustar según el tamaño de la imagen)\n",
    "    mask = np.ones_like(magnitude_spectrum)\n",
    "    cv2.circle(mask, (center_x, center_y), roi_radius, 0, -1)\n",
    "    \n",
    "    high_freq_values = magnitude_spectrum * mask\n",
    "    focus_measure = np.sum(high_freq_values)\n",
    "    focus_scores.append(focus_measure)\n",
    "\n",
    "    frame_count += 1\n",
    "\n",
    "cap.release()\n",
    "\n",
    "# Graficar la evolución de la métrica frame a frame\n",
    "plt.plot(focus_scores)\n",
    "plt.title('Evolución de la métrica de enfoque frame a frame')\n",
    "plt.xlabel('Frame')\n",
    "plt.ylabel('Métrica de Enfoque')\n",
    "plt.show()\n"
   ]
  },
  {
   "cell_type": "markdown",
   "metadata": {},
   "source": [
    "### Parte 1a: Medición sobre todo el Frame\n",
    "El código de arriba ya calcula la métrica sobre todo el frame, y la gráfica muestra cómo varía la nitidez a lo largo del video."
   ]
  },
  {
   "cell_type": "markdown",
   "metadata": {},
   "source": [
    "### Parte 1b: Medición sobre una ROI en el Centro del Frame\n",
    "Calculamos la métrica solo en una región de interés (ROI) en el centro del frame. El área de la ROI será del 5% o 10% del área total del frame."
   ]
  },
  {
   "cell_type": "code",
   "execution_count": null,
   "metadata": {
    "vscode": {
     "languageId": "plaintext"
    }
   },
   "outputs": [],
   "source": [
    "cap = cv2.VideoCapture(video_path)\n",
    "focus_scores_roi = []\n",
    "\n",
    "while cap.isOpened():\n",
    "    ret, frame = cap.read()\n",
    "    if not ret:\n",
    "        break\n",
    "    \n",
    "    # Convertir el frame a escala de grises\n",
    "    gray_frame = cv2.cvtColor(frame, cv2.COLOR_BGR2GRAY)\n",
    "    \n",
    "    # Definir ROI en el centro del frame (10% del área total)\n",
    "    h, w = gray_frame.shape\n",
    "    roi_h, roi_w = int(0.1 * h), int(0.1 * w)\n",
    "    start_x, start_y = (w - roi_w) // 2, (h - roi_h) // 2\n",
    "    roi = gray_frame[start_y:start_y+roi_h, start_x:start_x+roi_w]\n",
    "    \n",
    "    # Calcular la FFT y la métrica para la ROI\n",
    "    f = np.fft.fft2(roi)\n",
    "    fshift = np.fft.fftshift(f)\n",
    "    magnitude_spectrum = np.abs(fshift)\n",
    "    \n",
    "    # Calcular la métrica como antes\n",
    "    focus_measure = np.sum(magnitude_spectrum)\n",
    "    focus_scores_roi.append(focus_measure)\n",
    "\n",
    "cap.release()\n",
    "\n",
    "# Graficar la evolución de la métrica en la ROI\n",
    "plt.plot(focus_scores_roi)\n",
    "plt.title('Evolución de la métrica de enfoque sobre ROI en el centro')\n",
    "plt.xlabel('Frame')\n",
    "plt.ylabel('Métrica de Enfoque ROI')\n",
    "plt.show()\n"
   ]
  },
  {
   "cell_type": "markdown",
   "metadata": {},
   "source": [
    "### Parte 1c: Medición sobre una Matriz de Enfoque (NxM)\n",
    "Para esta parte vamos a dividir cada frame en una matriz de elementos rectangulares y a calcular la métrica para cada sección."
   ]
  },
  {
   "cell_type": "code",
   "execution_count": null,
   "metadata": {
    "vscode": {
     "languageId": "plaintext"
    }
   },
   "outputs": [],
   "source": [
    "N_values = [3, 5, 7]  # Probar varios valores para N y M\n",
    "M_values = [3, 5]\n",
    "\n",
    "cap = cv2.VideoCapture(video_path)\n",
    "\n",
    "for N, M in zip(N_values, M_values):\n",
    "    focus_scores_grid = []\n",
    "\n",
    "    while cap.isOpened():\n",
    "        ret, frame = cap.read()\n",
    "        if not ret:\n",
    "            break\n",
    "        \n",
    "        # Convertir el frame a escala de grises\n",
    "        gray_frame = cv2.cvtColor(frame, cv2.COLOR_BGR2GRAY)\n",
    "        h, w = gray_frame.shape\n",
    "        step_h, step_w = h // N, w // M\n",
    "        \n",
    "        total_focus = 0\n",
    "        # Iterar sobre la matriz NxM\n",
    "        for i in range(N):\n",
    "            for j in range(M):\n",
    "                roi = gray_frame[i*step_h:(i+1)*step_h, j*step_w:(j+1)*step_w]\n",
    "                \n",
    "                # Calcular la FFT y la métrica para la ROI\n",
    "                f = np.fft.fft2(roi)\n",
    "                fshift = np.fft.fftshift(f)\n",
    "                magnitude_spectrum = np.abs(fshift)\n",
    "                \n",
    "                # Sumar las métricas para cada sección\n",
    "                total_focus += np.sum(magnitude_spectrum)\n",
    "\n",
    "        focus_scores_grid.append(total_focus)\n",
    "\n",
    "    cap.set(cv2.CAP_PROP_POS_FRAMES, 0)  # Reiniciar video para la siguiente iteración\n",
    "\n",
    "    # Graficar la evolución de la métrica sobre la matriz\n",
    "    plt.plot(focus_scores_grid)\n",
    "    plt.title(f'Evolución de la métrica de enfoque para la matriz {N}x{M}')\n",
    "    plt.xlabel('Frame')\n",
    "    plt.ylabel('Métrica de Enfoque Matriz')\n",
    "    plt.show()\n",
    "\n",
    "cap.release()\n"
   ]
  },
  {
   "cell_type": "markdown",
   "metadata": {},
   "source": [
    "Visualización de la ROI o Matriz Superpuesta al Video\n",
    "Para marcar los frames en rojo o verde según el enfoque:"
   ]
  },
  {
   "cell_type": "code",
   "execution_count": null,
   "metadata": {
    "vscode": {
     "languageId": "plaintext"
    }
   },
   "outputs": [],
   "source": [
    "cap = cv2.VideoCapture(video_path)\n",
    "out = cv2.VideoWriter('focus_output.avi', cv2.VideoWriter_fourcc(*'XVID'), 30, (int(cap.get(3)), int(cap.get(4))))\n",
    "\n",
    "for i, score in enumerate(focus_scores_roi):  # Usando la métrica ROI como ejemplo\n",
    "    ret, frame = cap.read()\n",
    "    if not ret:\n",
    "        break\n",
    "    \n",
    "    color = (0, 255, 0) if score == max(focus_scores_roi) else (0, 0, 255)\n",
    "    # Dibujar el rectángulo de la ROI\n",
    "    cv2.rectangle(frame, (start_x, start_y), (start_x+roi_w, start_y+roi_h), color, 2)\n",
    "    \n",
    "    out.write(frame)\n",
    "\n",
    "cap.release()\n",
    "out.release()\n"
   ]
  },
  {
   "cell_type": "markdown",
   "metadata": {},
   "source": [
    "## Parte 2: Cambiar la Métrica de Enfoque\n",
    "En esta parte podemos utilizar una métrica diferente, como la de la varianza de Laplaciano:"
   ]
  },
  {
   "cell_type": "code",
   "execution_count": null,
   "metadata": {
    "vscode": {
     "languageId": "plaintext"
    }
   },
   "outputs": [],
   "source": [
    "cap = cv2.VideoCapture(video_path)\n",
    "laplacian_focus_scores = []\n",
    "\n",
    "while cap.isOpened():\n",
    "    ret, frame = cap.read()\n",
    "    if not ret:\n",
    "        break\n",
    "    \n",
    "    gray_frame = cv2.cvtColor(frame, cv2.COLOR_BGR2GRAY)\n",
    "    laplacian_var = cv2.Laplacian(gray_frame, cv2.CV_64F).var()\n",
    "    laplacian_focus_scores.append(laplacian_var)\n",
    "\n",
    "cap.release()\n",
    "\n",
    "# Graficar la evolución de la nueva métrica\n",
    "plt.plot(laplacian_focus_scores)\n",
    "plt.title('Evolución de la métrica de enfoque con Laplaciano')\n",
    "plt.xlabel('Frame')\n",
    "plt.ylabel('Varianza del Laplaciano')\n",
    "plt.show()\n"
   ]
  }
 ],
 "metadata": {
  "language_info": {
   "name": "python"
  }
 },
 "nbformat": 4,
 "nbformat_minor": 2
}
