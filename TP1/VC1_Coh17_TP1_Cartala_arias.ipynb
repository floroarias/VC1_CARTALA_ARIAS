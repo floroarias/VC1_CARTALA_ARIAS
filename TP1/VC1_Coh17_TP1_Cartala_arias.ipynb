{
 "cells": [
  {
   "cell_type": "markdown",
   "metadata": {},
   "source": [
    "## Visión por Computadora 1 - Cohorte 17\n",
    "## Trabajo Práctico 1\n",
    "## Paola Cartala - Florentino Arias"
   ]
  },
  {
   "cell_type": "markdown",
   "metadata": {},
   "source": [
    "## Parte 1, punto 1: Implementar el algoritmo de coordenadas cromáticas para las imágenes 'CoordCrom_1.png', 'CoordCrom_2.png', y 'CoordCrom_3.png'.\n",
    "Coordenadas cromáticas transforma los valores de RGB de una imagen para reducir el impacto del contraste."
   ]
  },
  {
   "cell_type": "code",
   "execution_count": null,
   "metadata": {
    "vscode": {
     "languageId": "plaintext"
    }
   },
   "outputs": [],
   "source": [
    "import cv2\n",
    "import numpy as np\n",
    "import matplotlib.pyplot as plt\n",
    "\n",
    "# Leer y mostrar la imagen original\n",
    "image_paths = ['CoordCrom_1.png', 'CoordCrom_2.png', 'CoordCrom_3.png']\n",
    "\n",
    "for path in image_paths:\n",
    "    image = cv2.imread(path)\n",
    "    image = cv2.cvtColor(image, cv2.COLOR_BGR2RGB)\n",
    "    \n",
    "    # Pasar a coordenadas cromáticas\n",
    "    sum_channels = np.sum(image, axis=2, keepdims=True)\n",
    "    sum_channels = np.where(sum_channels == 0, 1, sum_channels)  # Para evitar divisiones por cero\n",
    "    chromatic_coords = image / sum_channels\n",
    "\n",
    "    # Mostrar la imagen transformada\n",
    "    plt.imshow(chromatic_coords)\n",
    "    plt.title(f'Imagen con coordenadas cromáticas - {path}')\n",
    "    plt.axis('off')\n",
    "    plt.show()\n"
   ]
  },
  {
   "cell_type": "markdown",
   "metadata": {},
   "source": [
    "## Parte 1, punto 2: Implementar el algoritmo White Patch para ajustar la iluminación de las imágenes proporcionadas.\n",
    "White Patch ajusta los valores de RGB en función del valor más alto en cada canal, normalizando para simular una mejor iluminación."
   ]
  },
  {
   "cell_type": "code",
   "execution_count": null,
   "metadata": {
    "vscode": {
     "languageId": "plaintext"
    }
   },
   "outputs": [],
   "source": [
    "image_paths_wp = [\n",
    "    'test_blue.png', 'test_green.png', 'test_red.png',\n",
    "    'wp_blue.png', 'wp_green.png', 'wp_green2.png', \n",
    "    'wp_red.png', 'wp_red2.png'\n",
    "]\n",
    "\n",
    "for path in image_paths_wp:\n",
    "    image = cv2.imread(path)\n",
    "    image = cv2.cvtColor(image, cv2.COLOR_BGR2RGB)\n",
    "    \n",
    "    # Aplicar White Patch para cada canal\n",
    "    max_values = np.max(image, axis=(0, 1))  # Valores máximos de R, G, B\n",
    "    white_patch_corrected = (image / max_values) * 255\n",
    "    white_patch_corrected = np.clip(white_patch_corrected, 0, 255).astype(np.uint8)\n",
    "    \n",
    "    # Mostrar la imagen transformada\n",
    "    plt.imshow(white_patch_corrected)\n",
    "    plt.title(f'Imagen con White Patch - {path}')\n",
    "    plt.axis('off')\n",
    "    plt.show()\n"
   ]
  },
  {
   "cell_type": "markdown",
   "metadata": {},
   "source": [
    "## Parte 1, punto 3: Mostrar los resultados obtenidos y analizar las posibles fallas del algoritmo White Patch.\n",
    "Una posible falla de White Patch es que el algoritmo asume que el color más brillante corresponde al blanco, lo cual puede no ser cierto en algunas casos. Este supuesto podría llevar a problemas cuando no hay ningún \"parche blanco\" en la imagen, resultando en una corrección de color imprecisa."
   ]
  },
  {
   "cell_type": "markdown",
   "metadata": {},
   "source": [
    "## Parte 2, punto 1: Leer las imágenes 'img1_tp.png' y 'img2_tp.png' en escala de grises y visualizarlas."
   ]
  },
  {
   "cell_type": "code",
   "execution_count": null,
   "metadata": {
    "vscode": {
     "languageId": "plaintext"
    }
   },
   "outputs": [],
   "source": [
    "image_paths_grayscale = ['img1_tp.png', 'img2_tp.png']\n",
    "\n",
    "for path in image_paths_grayscale:\n",
    "    image_gray = cv2.imread(path, cv2.IMREAD_GRAYSCALE)\n",
    "    \n",
    "    # Mostrar la imagen en escala de grises\n",
    "    plt.imshow(image_gray, cmap='gray')\n",
    "    plt.title(f'Imagen en escala de grises - {path}')\n",
    "    plt.axis('off')\n",
    "    plt.show()\n"
   ]
  },
  {
   "cell_type": "markdown",
   "metadata": {},
   "source": [
    "## Parte 2, punto 2: Elegir el número de bins y graficar histogramas."
   ]
  },
  {
   "cell_type": "code",
   "execution_count": null,
   "metadata": {
    "vscode": {
     "languageId": "plaintext"
    }
   },
   "outputs": [],
   "source": [
    "bins = 256  # Puedes elegir el número de bins según el nivel de detalle requerido\n",
    "\n",
    "for path in image_paths_grayscale:\n",
    "    image_gray = cv2.imread(path, cv2.IMREAD_GRAYSCALE)\n",
    "    hist = cv2.calcHist([image_gray], [0], None, [bins], [0, 256])\n",
    "    \n",
    "    # Graficar el histograma\n",
    "    plt.plot(hist, color='black')\n",
    "    plt.title(f'Histograma de escala de grises - {path}')\n",
    "    plt.xlabel('Intensidad')\n",
    "    plt.ylabel('Frecuencia')\n",
    "    plt.show()\n"
   ]
  },
  {
   "cell_type": "markdown",
   "metadata": {},
   "source": [
    "En cuanto a si los histogramas serían útiles como características para un modelo de clasificación, sí, pueden ser útiles. Proveen información sobre la distribución de intensidad en la imagen, lo que podría ser relevante para identificar patrones globales. Sin embargo, para detección de características espaciales específicas, los histogramas pueden no ser suficientes por sí solos."
   ]
  },
  {
   "cell_type": "markdown",
   "metadata": {},
   "source": [
    "## Parte 2, punto 3: Análisis del histograma RGB y segmentación de elementos de la imagen 'segmentacion.png'."
   ]
  },
  {
   "cell_type": "code",
   "execution_count": null,
   "metadata": {
    "vscode": {
     "languageId": "plaintext"
    }
   },
   "outputs": [],
   "source": [
    "# Leer la imagen y analizar los canales RGB\n",
    "segment_image = cv2.imread('segmentacion.png')\n",
    "segment_image = cv2.cvtColor(segment_image, cv2.COLOR_BGR2RGB)\n",
    "\n",
    "# Graficar histogramas para los canales RGB\n",
    "colors = ('r', 'g', 'b')\n",
    "for i, color in enumerate(colors):\n",
    "    hist = cv2.calcHist([segment_image], [i], None, [256], [0, 256])\n",
    "    plt.plot(hist, color=color)\n",
    "    plt.title('Histograma de Canales RGB')\n",
    "plt.xlabel('Intensidad')\n",
    "plt.ylabel('Frecuencia')\n",
    "plt.show()\n",
    "\n",
    "# Segmentación usando máscaras\n",
    "lower_sky = np.array([135, 180, 200])\n",
    "upper_sky = np.array([200, 255, 255])\n",
    "mask_sky = cv2.inRange(segment_image, lower_sky, upper_sky)\n",
    "segmented_sky = cv2.bitwise_and(segment_image, segment_image, mask=mask_sky)\n",
    "\n",
    "plt.imshow(segmented_sky)\n",
    "plt.title('Cielo Segmentado')\n",
    "plt.axis('off')\n",
    "plt.show()\n"
   ]
  }
 ],
 "metadata": {
  "language_info": {
   "name": "python"
  }
 },
 "nbformat": 4,
 "nbformat_minor": 2
}
